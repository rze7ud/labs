{
  "cells": [
    {
      "cell_type": "markdown",
      "metadata": {
        "id": "0JrqzNnrW-Yj"
      },
      "source": [
        "## PCA and Text Analysis\n",
        "\n",
        "This assignment involves processing real e-mails, some of which are scams. Some of these scam e-mails have some offensive content. I don't think anything is worse than R-rated, but I just want to warn you that if you start reading the e-mail text, you might read something offensive. If that's a problem, feel free to e-mail me and we can talk about it more or you can skip the assignment.  "
      ]
    },
    {
      "cell_type": "markdown",
      "metadata": {
        "id": "1OQnFHxYW-Yl"
      },
      "source": [
        "### Q1.\n",
        "\n",
        "Open the `Phishing_Email.parquet` data. It is available at `https://data434.s3.us-east-2.amazonaws.com/Phishing_Email.parquet`, and you can download it directly using Pandas by providing that URL: `df = pd.read_parquet('https://data434.s3.us-east-2.amazonaws.com/Phishing_Email.parquet')`.\n",
        "\n",
        "We just want to look at the first step of cleaning text data, so you can get an idea of how it works. The `Email Text` variable contains the actual text of the email and the `Email Type` takes the value `Phishing Email` or `Safe Email`. We want to predict which emails are phishing emails from their contents.\n",
        "\n",
        "Use the `str.split()` method to break the `Phishing Email` values into **tokens**: The individual words or symbols that create text data like emails. Natural Language Processing is primarily about analyzing the frequency and co-occurrence of tokens. Print the results of your split and examine it.\n",
        "\n",
        "In words, how would you clean the tokens and use them to predict whether the email is a phishing scam or not? A short summary of the kinds of tasks you would do and how you would run a predictive algorithm is fine."
      ]
    },
    {
      "cell_type": "code",
      "source": [
        "! git clone https://github.com/DS3001/labs/"
      ],
      "metadata": {
        "id": "wjpy0TenajzU",
        "outputId": "8443b7e7-38d2-4eb7-a3bb-8cfbbd73ac7e",
        "colab": {
          "base_uri": "https://localhost:8080/"
        }
      },
      "execution_count": 21,
      "outputs": [
        {
          "metadata": {
            "tags": null
          },
          "name": "stdout",
          "output_type": "stream",
          "text": [
            "Cloning into 'labs'...\n",
            "remote: Enumerating objects: 97, done.\u001b[K\n",
            "remote: Counting objects: 100% (66/66), done.\u001b[K\n",
            "remote: Compressing objects: 100% (43/43), done.\u001b[K\n",
            "remote: Total 97 (delta 37), reused 41 (delta 23), pack-reused 31 (from 1)\u001b[K\n",
            "Receiving objects: 100% (97/97), 22.16 MiB | 24.96 MiB/s, done.\n",
            "Resolving deltas: 100% (39/39), done.\n"
          ]
        }
      ]
    },
    {
      "cell_type": "code",
      "source": [
        "import pandas as pd\n",
        "\n",
        "df = pd.read_parquet('https://data434.s3.us-east-2.amazonaws.com/Phishing_Email.parquet')\n",
        "print(df.info(), \"\\n\")\n",
        "tokens = df['Email Text'].str.split()\n",
        "print(tokens)"
      ],
      "metadata": {
        "colab": {
          "base_uri": "https://localhost:8080/"
        },
        "id": "6d-crh7nYK4s",
        "outputId": "5b0895ca-c51e-4731-ea13-6bdb30c53ec3"
      },
      "execution_count": 12,
      "outputs": [
        {
          "output_type": "stream",
          "name": "stdout",
          "text": [
            "<class 'pandas.core.frame.DataFrame'>\n",
            "RangeIndex: 18634 entries, 0 to 18633\n",
            "Data columns (total 4 columns):\n",
            " #   Column      Non-Null Count  Dtype \n",
            "---  ------      --------------  ----- \n",
            " 0   index       18634 non-null  int64 \n",
            " 1   Unnamed: 0  18634 non-null  int64 \n",
            " 2   Email Text  18634 non-null  object\n",
            " 3   Email Type  18634 non-null  object\n",
            "dtypes: int64(2), object(2)\n",
            "memory usage: 582.4+ KB\n",
            "None \n",
            "\n",
            "0        [re, :, 6, ., 1100, ,, disc, :, uniformitarian...\n",
            "1        [the, other, side, of, *, galicismos, *, *, ga...\n",
            "2        [re, :, equistar, deal, tickets, are, you, sti...\n",
            "3        [Hello, I, am, your, hot, lil, horny, toy., I,...\n",
            "4        [software, at, incredibly, low, prices, (, 86,...\n",
            "                               ...                        \n",
            "18629    [date, a, lonely, housewife, always, wanted, t...\n",
            "18630    [request, submitted, :, access, request, for, ...\n",
            "18631    [re, :, important, -, prc, mtg, hi, dorn, &, j...\n",
            "18632    [press, clippings, -, letter, on, californian,...\n",
            "18633                                              [empty]\n",
            "Name: Email Text, Length: 18634, dtype: object\n"
          ]
        }
      ]
    },
    {
      "cell_type": "markdown",
      "source": [
        "# **Complete writing after assignment!**"
      ],
      "metadata": {
        "id": "ar65cWatZ40F"
      }
    },
    {
      "cell_type": "markdown",
      "metadata": {
        "id": "YeBXsSdCW-Yl"
      },
      "source": [
        "### Q2.\n",
        "\n",
        "I aggregated all the emails into a single vector, and removed the punctuation and very common words (e.g. \"the\"). Run the below code chunk to open it, and use the Counter class to look at the most common words:"
      ]
    },
    {
      "cell_type": "code",
      "execution_count": 36,
      "metadata": {
        "id": "pFe_yISgW-Yl"
      },
      "outputs": [],
      "source": [
        "import pickle\n",
        "import matplotlib.pyplot as plt\n",
        "\n",
        "with open('/content/labs/05_PCA/all_tokens.pickle', 'rb') as file:\n",
        "    all_tokens = pickle.load(file)\n",
        "\n",
        "from collections import Counter\n",
        "token_count = Counter(all_tokens)\n",
        "token_freq = token_count.most_common()"
      ]
    },
    {
      "cell_type": "markdown",
      "metadata": {
        "id": "7J7VFVl2W-Ym"
      },
      "source": [
        "Plot a histogram of the occurrences of tokens. What do you notice about the frequency of occurrence of different tokens? How does it look?"
      ]
    },
    {
      "cell_type": "code",
      "source": [
        "hist = pd.DataFrame(token_freq, columns=['token', 'count'])\n",
        "hist['count'].hist(bins=25)\n",
        "plt.show()\n",
        "\n",
        "print(\"Max Count:\", hist['count'].max(), \"\\n\")\n",
        "print(hist['count'].value_counts())"
      ],
      "metadata": {
        "id": "3iNroDizbaAk",
        "outputId": "c885bc40-0d50-4afd-84d7-ffcb507ab556",
        "colab": {
          "base_uri": "https://localhost:8080/",
          "height": 702
        }
      },
      "execution_count": 37,
      "outputs": [
        {
          "output_type": "display_data",
          "data": {
            "text/plain": [
              "<Figure size 640x480 with 1 Axes>"
            ],
            "image/png": "[encoded data removed]"
          },
          "metadata": {}
        },
        {
          "output_type": "stream",
          "name": "stdout",
          "text": [
            "Max Count: 1365 \n",
            "\n",
            "count\n",
            "1      29404\n",
            "2       7216\n",
            "3       2934\n",
            "4       1755\n",
            "5       1141\n",
            "       ...  \n",
            "245        1\n",
            "237        1\n",
            "236        1\n",
            "233        1\n",
            "159        1\n",
            "Name: count, Length: 314, dtype: int64\n"
          ]
        }
      ]
    },
    {
      "cell_type": "markdown",
      "source": [
        "There are 29,404 cases of a token appearing only once and the highest count of an individual token is 1,365. As the count of a token increases, the frequency of this occurring decreases. We can also see from the graph that the histogram is extremly skewed right."
      ],
      "metadata": {
        "id": "5jaNmWzTb49U"
      }
    },
    {
      "cell_type": "markdown",
      "metadata": {
        "id": "3jcaAEk8W-Ym"
      },
      "source": [
        "### Q3.\n",
        "\n",
        "Load `Phishing_clean.parquet`. This is the text from the e-mails broken into the most common 2,711 tokens and one-hot-encoded as features/covariates. So each row is an e-mail, the `Email Type` takes the value 1 if it's a scam and 0 otherwise, and every other column is a word or symbol that occurs in at least 15 e-mails.\n",
        "\n",
        "1. Perform an 80/20 train-test split of the data.\n",
        "2. Run a regression of $y$ on the one-hot-encoded emails. What is the $R^2$ on the test set? On the training set?\n",
        "3. What words have the largest coefficients in absolute value and most strongly influence predictions?"
      ]
    },
    {
      "cell_type": "markdown",
      "metadata": {
        "id": "cgr5pNRrW-Ym"
      },
      "source": [
        "### Q4.\n",
        "\n",
        "Take the matrix of one-hot-encoded tokens (the data, less the outcome variable, `Email Type`) and perform a principal components analysis decomposition with two components. Plot the first two principal components in a scatter plot, and hue the points by whether they are a phishing scam or not. Do you notice any patterns?"
      ]
    },
    {
      "cell_type": "markdown",
      "metadata": {
        "id": "gILvUA9eW-Ym"
      },
      "source": [
        "### Q5.\n",
        "\n",
        "Run a linear regression of $y$ on the first 2,610 principal components of $X$. What is the $R^2$ on the training and test sets? (I used cross validation to determine that 2,610 was approximately optimal, but not all 2,711 components.)\n",
        "\n",
        "How does this performance compare to the linear regression?"
      ]
    },
    {
      "cell_type": "markdown",
      "metadata": {
        "id": "2Nr2p8d2W-Ym"
      },
      "source": [
        "### Q6.\n",
        "\n",
        "Explain briefly in your own words what the advantage is in using the principal components to run this high-dimensional regression, rather than the original data."
      ]
    }
  ],
  "metadata": {
    "kernelspec": {
      "display_name": ".txt",
      "language": "python",
      "name": "python3"
    },
    "language_info": {
      "codemirror_mode": {
        "name": "ipython",
        "version": 3
      },
      "file_extension": ".py",
      "mimetype": "text/x-python",
      "name": "python",
      "nbconvert_exporter": "python",
      "pygments_lexer": "ipython3",
      "version": "3.10.12"
    },
    "colab": {
      "provenance": []
    }
  },
  "nbformat": 4,
  "nbformat_minor": 0
}